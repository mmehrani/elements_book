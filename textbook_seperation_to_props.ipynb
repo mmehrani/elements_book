{
 "cells": [
  {
   "cell_type": "code",
   "execution_count": 31,
   "metadata": {},
   "outputs": [
    {
     "data": {
      "text/plain": [
       "['BOOK I.',\n",
       " 'BOOK II.',\n",
       " 'BOOK III.',\n",
       " 'BOOK IV.',\n",
       " 'BOOK V.',\n",
       " 'BOOK VI.',\n",
       " 'BOOK XI.',\n",
       " 'APPENDIX.',\n",
       " 'NOTES.']"
      ]
     },
     "execution_count": 31,
     "metadata": {},
     "output_type": "execute_result"
    }
   ],
   "source": [
    "book_names = ['BOOK I.','BOOK II.','BOOK III.','BOOK IV.','BOOK V.','BOOK VI.','BOOK XI.']\n",
    "sections = []\n",
    "sections.extend(book_names)\n",
    "sections.extend(['APPENDIX.','NOTES.'])\n",
    "sections"
   ]
  },
  {
   "cell_type": "code",
   "execution_count": 32,
   "metadata": {},
   "outputs": [
    {
     "data": {
      "text/plain": [
       "{'BOOK I.': [],\n",
       " 'BOOK II.': [],\n",
       " 'BOOK III.': [],\n",
       " 'BOOK IV.': [],\n",
       " 'BOOK V.': [],\n",
       " 'BOOK VI.': [],\n",
       " 'BOOK XI.': [],\n",
       " 'APPENDIX.': [],\n",
       " 'NOTES.': []}"
      ]
     },
     "execution_count": 32,
     "metadata": {},
     "output_type": "execute_result"
    }
   ],
   "source": [
    "# section_names_rep_dict = {}\n",
    "# for x in sections:\n",
    "#     section_names_rep_dict[x] = []\n",
    "# section_names_rep_dict"
   ]
  },
  {
   "cell_type": "code",
   "execution_count": null,
   "metadata": {},
   "outputs": [],
   "source": []
  },
  {
   "cell_type": "code",
   "execution_count": 51,
   "metadata": {},
   "outputs": [
    {
     "name": "stdout",
     "output_type": "stream",
     "text": [
      "0\n",
      "1842\n",
      "2739\n",
      "4130\n",
      "4875\n",
      "6447\n",
      "8225\n",
      "8671\n",
      "9107\n"
     ]
    }
   ],
   "source": [
    "book = open('Elements_book_directly_copied.txt','r')\n",
    "book_lines = book.readlines()\n",
    "\n",
    "for i in range(len(book_lines)):\n",
    "    if book_lines[i].replace('\\n','') in sections:\n",
    "        print(i)\n"
   ]
  },
  {
   "cell_type": "code",
   "execution_count": 39,
   "metadata": {},
   "outputs": [
    {
     "ename": "SyntaxError",
     "evalue": "invalid syntax (<ipython-input-39-78f08b2f1d0b>, line 1)",
     "output_type": "error",
     "traceback": [
      "\u001b[1;36m  File \u001b[1;32m\"<ipython-input-39-78f08b2f1d0b>\"\u001b[1;36m, line \u001b[1;32m1\u001b[0m\n\u001b[1;33m    book_lines[468].del('\\n') in ['PROP. I.—Problem']\u001b[0m\n\u001b[1;37m                      ^\u001b[0m\n\u001b[1;31mSyntaxError\u001b[0m\u001b[1;31m:\u001b[0m invalid syntax\n"
     ]
    }
   ],
   "source": [
    "book_lines[468].del('\\n') in ['PROP. I.—Problem']"
   ]
  },
  {
   "cell_type": "code",
   "execution_count": 50,
   "metadata": {},
   "outputs": [
    {
     "data": {
      "text/plain": [
       "'PROP..—Problem'"
      ]
     },
     "execution_count": 50,
     "metadata": {},
     "output_type": "execute_result"
    }
   ],
   "source": [
    "a = 'PROP.I.—Problem'\n",
    "a.replace('I','')"
   ]
  },
  {
   "cell_type": "code",
   "execution_count": null,
   "metadata": {},
   "outputs": [],
   "source": []
  }
 ],
 "metadata": {
  "kernelspec": {
   "display_name": "Python 3",
   "language": "python",
   "name": "python3"
  },
  "language_info": {
   "codemirror_mode": {
    "name": "ipython",
    "version": 3
   },
   "file_extension": ".py",
   "mimetype": "text/x-python",
   "name": "python",
   "nbconvert_exporter": "python",
   "pygments_lexer": "ipython3",
   "version": "3.7.6"
  }
 },
 "nbformat": 4,
 "nbformat_minor": 4
}
